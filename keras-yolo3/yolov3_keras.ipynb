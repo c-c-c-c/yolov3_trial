{
 "cells": [
  {
   "cell_type": "code",
   "execution_count": 1,
   "metadata": {
    "code_folding": [
     0
    ]
   },
   "outputs": [
    {
     "name": "stdout",
     "output_type": "stream",
     "text": [
      "Pixiedust database opened successfully\n"
     ]
    },
    {
     "data": {
      "text/html": [
       "\n",
       "        <div style=\"margin:10px\">\n",
       "            <a href=\"https://github.com/ibm-watson-data-lab/pixiedust\" target=\"_new\">\n",
       "                <img src=\"https://github.com/ibm-watson-data-lab/pixiedust/raw/master/docs/_static/pd_icon32.png\" style=\"float:left;margin-right:10px\"/>\n",
       "            </a>\n",
       "            <span>Pixiedust version 1.1.18</span>\n",
       "        </div>\n",
       "        "
      ],
      "text/plain": [
       "<IPython.core.display.HTML object>"
      ]
     },
     "metadata": {},
     "output_type": "display_data"
    }
   ],
   "source": [
    "# 標準使用ライブラリー\n",
    "import numpy as np # linear algebra\n",
    "import pandas as pd # data processing, CSV file I/O (e.g. pd.read_csv)\n",
    "# Suppress warnings \n",
    "import warnings\n",
    "warnings.filterwarnings('ignore')\n",
    "import gc\n",
    "import os\n",
    "import shutil\n",
    "\n",
    "\n",
    "# matplotlib and seaborn for plotting\n",
    "import matplotlib.pyplot as plt\n",
    "%matplotlib inline\n",
    "import seaborn as sns\n",
    "\n",
    "# 追記\n",
    "import json\n",
    "import datetime\n",
    "import math\n",
    "plt.style.use('dark_background')\n",
    "\n",
    "# debug\n",
    "#%pdb on\n",
    "\n",
    "import pixiedust #%pixie_debugger\n",
    "\n",
    "# tfがエラーはかないため\n",
    "#import tensorflow as tf\n",
    "#physical_devices = tf.config.experimental.list_physical_devices('GPU')\n",
    "#tf.config.experimental.set_memory_growth(physical_devices[0], True)\n"
   ]
  },
  {
   "cell_type": "code",
   "execution_count": 2,
   "metadata": {
    "code_folding": [
     0
    ]
   },
   "outputs": [],
   "source": [
    "##################################\n",
    "#  独自ライブラリー： mshow\n",
    "# (複数に対応したノートブック上画像表示)\n",
    "##################################\n",
    "import cv2;import numpy as np;import matplotlib as mpl;import matplotlib.pyplot as plt\n",
    "%matplotlib inline\n",
    "def mshow(img1, img2=None, img3=None, img4=None, img5=None):\n",
    "\n",
    "    imgs = list(filter( lambda x: x is not None, [img1, img2, img3, img4, img5])) \n",
    "    \n",
    "    \n",
    "    if len(imgs) == 1:\n",
    "        # 一枚のとき\n",
    "        imgs[0] = imgs[0].astype(np.uint8)\n",
    "        im4p = cv2.cvtColor(imgs[0], cv2.COLOR_BGR2RGB)\n",
    "        plt.imshow(im4p)\n",
    "\n",
    "    else:\n",
    "        # 複数枚のとき。横に並べていく\n",
    "        plt.figure(figsize=(len(imgs)*4, len(imgs)*4))\n",
    "        fig_exh_base = 100+len(imgs)*10\n",
    "        for idx, tmp_img in enumerate(imgs):\n",
    "            tmp_img = tmp_img.astype(np.uint8)\n",
    "            tmp_im4p = cv2.cvtColor(tmp_img, cv2.COLOR_BGR2RGB)\n",
    "            \n",
    "            plt.subplot(fig_exh_base+idx+1)\n",
    "            plt.imshow(tmp_im4p)"
   ]
  },
  {
   "cell_type": "code",
   "execution_count": 3,
   "metadata": {
    "code_folding": [
     0,
     63,
     104
    ]
   },
   "outputs": [
    {
     "name": "stderr",
     "output_type": "stream",
     "text": [
      "Using TensorFlow backend.\n"
     ]
    }
   ],
   "source": [
    "# -*- coding: utf-8 -*-\n",
    "\"\"\"\n",
    "Class definition of YOLO_v3 style detection model on image and video\n",
    "\"\"\"\n",
    "\n",
    "import colorsys\n",
    "import os\n",
    "from timeit import default_timer as timer\n",
    "\n",
    "import numpy as np\n",
    "from keras import backend as K\n",
    "from keras.models import load_model\n",
    "from keras.layers import Input\n",
    "from PIL import Image, ImageFont, ImageDraw\n",
    "\n",
    "import sys\n",
    "sys.path.append('../library/keras_yolo3/')\n",
    "\n",
    "from yolo3.model import yolo_eval, yolo_body, tiny_yolo_body\n",
    "from yolo3.utils import letterbox_image\n",
    "import os\n",
    "from keras.utils import multi_gpu_model\n",
    "\n",
    "class YOLO(object):\n",
    "    _defaults = {\n",
    "        \"model_path\": 'model_data/yolo.h5',\n",
    "        \"anchors_path\": 'model_data/yolo_anchors.txt',\n",
    "        \"classes_path\": 'model_data/coco_classes.txt',\n",
    "        \"score\" : 0.3,\n",
    "        \"iou\" : 0.45,\n",
    "        \"model_image_size\" : (416, 416),\n",
    "        \"gpu_num\" : 1,\n",
    "    }\n",
    "\n",
    "    @classmethod\n",
    "    def get_defaults(cls, n):\n",
    "        if n in cls._defaults:\n",
    "            return cls._defaults[n]\n",
    "        else:\n",
    "            return \"Unrecognized attribute name '\" + n + \"'\"\n",
    "\n",
    "    def __init__(self, **kwargs):\n",
    "        self.__dict__.update(self._defaults) # set up default values\n",
    "        self.__dict__.update(kwargs) # and update with user overrides\n",
    "        self.class_names = self._get_class()\n",
    "        self.anchors = self._get_anchors()\n",
    "        self.sess = K.get_session()\n",
    "        self.boxes, self.scores, self.classes = self.generate()\n",
    "\n",
    "    def _get_class(self):\n",
    "        classes_path = os.path.expanduser(self.classes_path)\n",
    "        with open(classes_path) as f:\n",
    "            class_names = f.readlines()\n",
    "        class_names = [c.strip() for c in class_names]\n",
    "        return class_names\n",
    "\n",
    "    def _get_anchors(self):\n",
    "        anchors_path = os.path.expanduser(self.anchors_path)\n",
    "        with open(anchors_path) as f:\n",
    "            anchors = f.readline()\n",
    "        anchors = [float(x) for x in anchors.split(',')]\n",
    "        return np.array(anchors).reshape(-1, 2)\n",
    "\n",
    "    def generate(self):\n",
    "        model_path = os.path.expanduser(self.model_path)\n",
    "        assert model_path.endswith('.h5'), 'Keras model or weights must be a .h5 file.'\n",
    "\n",
    "        # Load model, or construct model and load weights.\n",
    "        num_anchors = len(self.anchors)\n",
    "        num_classes = len(self.class_names)\n",
    "        is_tiny_version = num_anchors==6 # default setting\n",
    "        try:\n",
    "            self.yolo_model = load_model(model_path, compile=False)\n",
    "        except:\n",
    "            self.yolo_model = tiny_yolo_body(Input(shape=(None,None,3)), num_anchors//2, num_classes) \\\n",
    "                if is_tiny_version else yolo_body(Input(shape=(None,None,3)), num_anchors//3, num_classes)\n",
    "            self.yolo_model.load_weights(self.model_path) # make sure model, anchors and classes match\n",
    "        else:\n",
    "            assert self.yolo_model.layers[-1].output_shape[-1] == \\\n",
    "                num_anchors/len(self.yolo_model.output) * (num_classes + 5), \\\n",
    "                'Mismatch between model and given anchor and class sizes'\n",
    "\n",
    "        print('{} model, anchors, and classes loaded.'.format(model_path))\n",
    "\n",
    "        # Generate colors for drawing bounding boxes.\n",
    "        hsv_tuples = [(x / len(self.class_names), 1., 1.)\n",
    "                      for x in range(len(self.class_names))]\n",
    "        self.colors = list(map(lambda x: colorsys.hsv_to_rgb(*x), hsv_tuples))\n",
    "        self.colors = list(\n",
    "            map(lambda x: (int(x[0] * 255), int(x[1] * 255), int(x[2] * 255)),\n",
    "                self.colors))\n",
    "        np.random.seed(10101)  # Fixed seed for consistent colors across runs.\n",
    "        np.random.shuffle(self.colors)  # Shuffle colors to decorrelate adjacent classes.\n",
    "        np.random.seed(None)  # Reset seed to default.\n",
    "\n",
    "        # Generate output tensor targets for filtered bounding boxes.\n",
    "        self.input_image_shape = K.placeholder(shape=(2, ))\n",
    "        if self.gpu_num>=2:\n",
    "            self.yolo_model = multi_gpu_model(self.yolo_model, gpus=self.gpu_num)\n",
    "        boxes, scores, classes = yolo_eval(self.yolo_model.output, self.anchors,\n",
    "                len(self.class_names), self.input_image_shape,\n",
    "                score_threshold=self.score, iou_threshold=self.iou)\n",
    "        return boxes, scores, classes\n",
    "\n",
    "    def detect_image(self, image):\n",
    "        start = timer()\n",
    "\n",
    "        \n",
    "        if self.model_image_size != (None, None):\n",
    "            assert self.model_image_size[0]%32 == 0, 'Multiples of 32 required'\n",
    "            assert self.model_image_size[1]%32 == 0, 'Multiples of 32 required'\n",
    "            boxed_image = letterbox_image(image, tuple(reversed(self.model_image_size)))\n",
    "        else:\n",
    "            new_image_size = (image.width - (image.width % 32),\n",
    "                              image.height - (image.height % 32))\n",
    "            boxed_image = letterbox_image(image, new_image_size)\n",
    "        image_data = np.array(boxed_image, dtype='float32')\n",
    "\n",
    "        print(image_data.shape)\n",
    "        image_data /= 255.\n",
    "        image_data = np.expand_dims(image_data, 0)  # Add batch dimension.\n",
    "\n",
    "        out_boxes, out_scores, out_classes = self.sess.run(\n",
    "            [self.boxes, self.scores, self.classes],\n",
    "            feed_dict={\n",
    "                self.yolo_model.input: image_data,\n",
    "                self.input_image_shape: [image.size[1], image.size[0]],\n",
    "                K.learning_phase(): 0\n",
    "            })\n",
    "\n",
    "        print('Found {} boxes for {}'.format(len(out_boxes), 'img'))\n",
    "\n",
    "        font = ImageFont.truetype(font='font/FiraMono-Medium.otf',\n",
    "                    size=np.floor(3e-2 * image.size[1] + 0.5).astype('int32'))\n",
    "        thickness = (image.size[0] + image.size[1]) // 300\n",
    "\n",
    "        for i, c in reversed(list(enumerate(out_classes))):\n",
    "            predicted_class = self.class_names[c]\n",
    "            box = out_boxes[i]\n",
    "            score = out_scores[i]\n",
    "\n",
    "            label = '{} {:.2f}'.format(predicted_class, score)\n",
    "            draw = ImageDraw.Draw(image)\n",
    "            label_size = draw.textsize(label, font)\n",
    "\n",
    "            top, left, bottom, right = box\n",
    "            top = max(0, np.floor(top + 0.5).astype('int32'))\n",
    "            left = max(0, np.floor(left + 0.5).astype('int32'))\n",
    "            bottom = min(image.size[1], np.floor(bottom + 0.5).astype('int32'))\n",
    "            right = min(image.size[0], np.floor(right + 0.5).astype('int32'))\n",
    "            print(label, (left, top), (right, bottom))\n",
    "\n",
    "            if top - label_size[1] >= 0:\n",
    "                text_origin = np.array([left, top - label_size[1]])\n",
    "            else:\n",
    "                text_origin = np.array([left, top + 1])\n",
    "\n",
    "            # My kingdom for a good redistributable image drawing library.\n",
    "            for i in range(thickness):\n",
    "                draw.rectangle(\n",
    "                    [left + i, top + i, right - i, bottom - i],\n",
    "                    outline=self.colors[c])\n",
    "            draw.rectangle(\n",
    "                [tuple(text_origin), tuple(text_origin + label_size)],\n",
    "                fill=self.colors[c])\n",
    "            draw.text(text_origin, label, fill=(0, 0, 0), font=font)\n",
    "            del draw\n",
    "\n",
    "        end = timer()\n",
    "        print(end - start)\n",
    "        return image\n",
    "\n",
    "    def close_session(self):\n",
    "        self.sess.close()\n",
    "\n",
    "        \n",
    "    def detect_image_return_result(self, image):\n",
    "        start = timer()\n",
    "        \n",
    "        if self.model_image_size != (None, None):\n",
    "            assert self.model_image_size[0]%32 == 0, 'Multiples of 32 required'\n",
    "            assert self.model_image_size[1]%32 == 0, 'Multiples of 32 required'\n",
    "            boxed_image = letterbox_image(image, tuple(reversed(self.model_image_size)))\n",
    "        else:\n",
    "            new_image_size = (image.width - (image.width % 32),\n",
    "                              image.height - (image.height % 32))\n",
    "            boxed_image = letterbox_image(image, new_image_size)\n",
    "        image_data = np.array(boxed_image, dtype='float32')\n",
    "\n",
    "        print(image_data.shape)\n",
    "        image_data /= 255.\n",
    "        image_data = np.expand_dims(image_data, 0)  # Add batch dimension.\n",
    "\n",
    "        out_boxes, out_scores, out_classes = self.sess.run(\n",
    "            [self.boxes, self.scores, self.classes],\n",
    "            feed_dict={\n",
    "                self.yolo_model.input: image_data,\n",
    "                self.input_image_shape: [image.size[1], image.size[0]],\n",
    "                K.learning_phase(): 0\n",
    "            })\n",
    "\n",
    "        return out_boxes, out_scores, out_classes\n",
    "        "
   ]
  },
  {
   "cell_type": "code",
   "execution_count": 4,
   "metadata": {},
   "outputs": [],
   "source": [
    "def detect_img(image):\n",
    "\n",
    "    yolo = YOLO()\n",
    "    \n",
    "    r_image = yolo.detect_image(image)\n",
    "    print(type(r_image))\n",
    "#     cv2.imwrite(\"out.jpg\", np.asarray(r_image)[..., ::-1])\n",
    "    plt.imshow(r_image)\n",
    "#     yolo.close_session()\n"
   ]
  },
  {
   "cell_type": "code",
   "execution_count": 5,
   "metadata": {},
   "outputs": [
    {
     "name": "stdout",
     "output_type": "stream",
     "text": [
      "model_data/yolo.h5 model, anchors, and classes loaded.\n"
     ]
    }
   ],
   "source": [
    "yolo = YOLO()"
   ]
  },
  {
   "cell_type": "code",
   "execution_count": 6,
   "metadata": {},
   "outputs": [
    {
     "name": "stdout",
     "output_type": "stream",
     "text": [
      "(416, 416, 3)\n",
      "[[ 99.128845 493.51987  348.42532  587.34326 ]\n",
      " [ 39.38847  396.51917  354.48264  523.9533  ]\n",
      " [194.70268  134.52895  355.18503  282.98553 ]\n",
      " [244.39424  350.51917  345.22668  456.092   ]] [0.9971941  0.99459946 0.99451023 0.94219655] [ 0  0 16 16]\n"
     ]
    }
   ],
   "source": [
    "\n",
    "image = Image.open(\"../images/walk.jpg\")\n",
    "a, b, c = yolo.detect_image_return_result(image)\n",
    "print(a, b, c)\n"
   ]
  },
  {
   "cell_type": "code",
   "execution_count": null,
   "metadata": {},
   "outputs": [],
   "source": []
  },
  {
   "cell_type": "code",
   "execution_count": 7,
   "metadata": {},
   "outputs": [],
   "source": [
    "# image = Image.open(\"../images/walk.jpg\")\n",
    "# detect_img(image)"
   ]
  },
  {
   "cell_type": "code",
   "execution_count": 8,
   "metadata": {},
   "outputs": [],
   "source": [
    "# !ls ../images_output"
   ]
  },
  {
   "cell_type": "code",
   "execution_count": 9,
   "metadata": {},
   "outputs": [],
   "source": [
    "os.chdir(\"/home/input/yolov3_trial/images_output/\")\n",
    "# os.chdir(\"/home/input/yolov3_trial/images_output_bottom/\")"
   ]
  },
  {
   "cell_type": "code",
   "execution_count": 10,
   "metadata": {},
   "outputs": [],
   "source": [
    "import glob\n",
    "l = glob.glob('./*')\n",
    "\n",
    "image_files = sorted([os.path.basename(r) for r in l])\n"
   ]
  },
  {
   "cell_type": "markdown",
   "metadata": {},
   "source": [
    "## 枚数を50分の1に減らす"
   ]
  },
  {
   "cell_type": "code",
   "execution_count": 11,
   "metadata": {},
   "outputs": [
    {
     "name": "stdout",
     "output_type": "stream",
     "text": [
      "(416, 416, 3)\n",
      "(416, 416, 3)\n",
      "(416, 416, 3)\n",
      "(416, 416, 3)\n",
      "(416, 416, 3)\n"
     ]
    }
   ],
   "source": [
    "results = []\n",
    "for i, image_name in enumerate(image_files):\n",
    "    \n",
    "    if i % 200 != 25:\n",
    "        continue\n",
    "    \n",
    "    tmp_image = Image.open(image_name)\n",
    "    a, b, c = yolo.detect_image_return_result(tmp_image)\n",
    "    results.append({ \"objects\" : a, \"confidence\" : b, \"classes\" : c})\n"
   ]
  },
  {
   "cell_type": "code",
   "execution_count": 12,
   "metadata": {},
   "outputs": [
    {
     "data": {
      "text/plain": [
       "[{'objects': array([[ 430.93735 ,  267.75204 ,  465.58273 ,  285.55682 ],\n",
       "         [ 411.85736 , 1036.4442  ,  449.01132 , 1054.9417  ],\n",
       "         [ 292.05328 ,  733.9987  ,  323.78128 ,  748.6315  ],\n",
       "         [ 316.4416  ,  771.6251  ,  347.51892 ,  784.8185  ],\n",
       "         [ 330.45212 ,  432.92966 ,  359.76013 ,  447.30344 ],\n",
       "         [ 448.55383 ,  111.66167 ,  478.34454 ,  126.90393 ],\n",
       "         [ 172.61017 , 1227.0042  ,  198.53477 , 1244.8964  ],\n",
       "         [ 331.74863 ,  438.71545 ,  359.41348 ,  452.60483 ],\n",
       "         [ 458.68515 ,  626.3848  ,  492.5676  ,  643.1432  ],\n",
       "         [ 490.45184 ,   61.287582,  535.25586 ,   81.21866 ],\n",
       "         [ 407.5373  , 1194.6825  ,  442.11084 , 1211.5134  ],\n",
       "         [ 671.34564 ,  618.50836 ,  716.1362  ,  647.895   ],\n",
       "         [ 642.8846  ,  650.0998  ,  687.47656 ,  668.2416  ],\n",
       "         [  28.096418,  105.638504,  695.9463  , 1175.8253  ],\n",
       "         [  28.096418,  105.638504,  695.9463  , 1175.8253  ]],\n",
       "        dtype=float32),\n",
       "  'confidence': array([0.9224038 , 0.9079314 , 0.8512923 , 0.8297569 , 0.77504003,\n",
       "         0.73425573, 0.7182564 , 0.68507165, 0.66305816, 0.6389638 ,\n",
       "         0.581104  , 0.48383027, 0.42911908, 0.42096832, 0.8390958 ],\n",
       "        dtype=float32),\n",
       "  'classes': array([ 0,  0,  0,  0,  0,  0,  0,  0,  0,  0,  0,  0,  0,  0, 62],\n",
       "        dtype=int32)},\n",
       " {'objects': array([[ 318.54276  ,  791.65344  ,  343.64963  ,  810.67017  ],\n",
       "         [ 331.38742  ,  428.94772  ,  359.5806   ,  445.7765   ],\n",
       "         [ 402.45615  , 1065.0502   ,  435.71478  , 1085.1914   ],\n",
       "         [ 429.19223  ,  256.6903   ,  463.82568  ,  275.1029   ],\n",
       "         [ 445.49744  ,  119.084076 ,  481.07907  ,  135.91858  ],\n",
       "         [ 291.13654  ,  727.926    ,  324.94556  ,  744.0532   ],\n",
       "         [ 491.45267  ,   62.54053  ,  534.2325   ,   81.053925 ],\n",
       "         [ 176.43167  , 1224.7642   ,  195.11916  , 1242.264    ],\n",
       "         [ 650.2261   ,  622.36035  ,  720.44836  ,  670.84644  ],\n",
       "         [ 401.0203   , 1206.1519   ,  436.52356  , 1220.5199   ],\n",
       "         [ 187.20102  ,    9.5711975,  218.09874  ,   28.326271 ],\n",
       "         [ 452.57925  ,  636.25824  ,  492.1092   ,  650.1476   ],\n",
       "         [  37.806488 ,  115.42     ,  692.595    , 1173.7906   ]],\n",
       "        dtype=float32),\n",
       "  'confidence': array([0.9441736 , 0.93140787, 0.8661746 , 0.8588233 , 0.7886434 ,\n",
       "         0.7029947 , 0.48361176, 0.40943974, 0.38413304, 0.35102132,\n",
       "         0.32983398, 0.31197855, 0.9145647 ], dtype=float32),\n",
       "  'classes': array([ 0,  0,  0,  0,  0,  0,  0,  0,  0,  0,  0,  0, 62], dtype=int32)},\n",
       " {'objects': array([[ 310.94003 ,  821.92816 ,  340.95038 ,  835.98627 ],\n",
       "         [ 420.48145 ,  255.0755  ,  459.4526  ,  272.88898 ],\n",
       "         [ 289.57443 ,  727.47205 ,  325.76932 ,  744.5712  ],\n",
       "         [ 437.44632 ,   85.18143 ,  469.85934 ,  103.689804],\n",
       "         [ 398.97495 , 1069.145   ,  433.46445 , 1090.2865  ],\n",
       "         [ 325.09302 ,  437.10965 ,  354.9224  ,  453.18097 ],\n",
       "         [ 171.61562 , 1238.0977  ,  196.00212 , 1254.8281  ],\n",
       "         [ 400.22043 , 1210.4249  ,  435.85577 , 1225.7991  ],\n",
       "         [ 456.47357 ,  628.3399  ,  490.83847 ,  646.7344  ],\n",
       "         [ 646.81165 ,  656.2759  ,  689.541   ,  683.3851  ],\n",
       "         [ 670.05096 ,  632.1987  ,  719.0317  ,  658.07605 ],\n",
       "         [ 479.04898 , 1181.9274  ,  521.49146 , 1202.8086  ],\n",
       "         [  31.792889,  110.19825 ,  696.54803 , 1161.9885  ]],\n",
       "        dtype=float32),\n",
       "  'confidence': array([0.92829025, 0.8815607 , 0.77906615, 0.7769738 , 0.7365676 ,\n",
       "         0.7234526 , 0.52688354, 0.5084873 , 0.44197384, 0.41486034,\n",
       "         0.37435517, 0.3079131 , 0.92875326], dtype=float32),\n",
       "  'classes': array([ 0,  0,  0,  0,  0,  0,  0,  0,  0,  0,  0,  0, 62], dtype=int32)},\n",
       " {'objects': array([[ 308.73117 ,  792.2517  ,  339.30347 ,  808.3373  ],\n",
       "         [ 422.425   ,  249.06348 ,  458.3442  ,  269.39066 ],\n",
       "         [ 330.70587 ,  430.97287 ,  359.3194  ,  447.00244 ],\n",
       "         [ 404.0665  , 1064.8188  ,  434.92856 , 1086.6405  ],\n",
       "         [ 457.76193 ,  626.5326  ,  494.45456 ,  645.66675 ],\n",
       "         [ 447.80835 ,   99.40286 ,  479.18506 ,  118.07194 ],\n",
       "         [ 293.30728 ,  728.25977 ,  323.18716 ,  742.6561  ],\n",
       "         [ 172.11313 , 1237.4048  ,  196.73607 , 1254.9623  ],\n",
       "         [ 492.6613  ,   62.361774,  535.146   ,   81.11988 ],\n",
       "         [ 398.40622 , 1215.9703  ,  435.59735 , 1234.4355  ],\n",
       "         [ 478.58728 , 1182.2054  ,  520.44165 , 1204.0342  ],\n",
       "         [ 639.8852  ,  643.99384 ,  689.7697  ,  668.11536 ],\n",
       "         [ 635.2589  ,  633.021   ,  713.1911  ,  670.3345  ],\n",
       "         [ 187.1566  ,    9.427613,  218.398   ,   28.250177],\n",
       "         [  33.994682,  109.78607 ,  692.00415 , 1172.4504  ],\n",
       "         [ 148.14487 ,  565.8856  ,  171.82233 ,  578.42944 ],\n",
       "         [ 447.80835 ,   99.40286 ,  479.18506 ,  118.07194 ],\n",
       "         [  33.994682,  109.78607 ,  692.00415 , 1172.4504  ]],\n",
       "        dtype=float32),\n",
       "  'confidence': array([0.9588576 , 0.90846854, 0.87468016, 0.8166958 , 0.758721  ,\n",
       "         0.7369439 , 0.60970235, 0.55984455, 0.5362557 , 0.5200421 ,\n",
       "         0.4179936 , 0.4100534 , 0.39914054, 0.33953044, 0.32627654,\n",
       "         0.3099498 , 0.38298407, 0.86723477], dtype=float32),\n",
       "  'classes': array([ 0,  0,  0,  0,  0,  0,  0,  0,  0,  0,  0,  0,  0,  0,  0,  0, 35,\n",
       "         62], dtype=int32)},\n",
       " {'objects': array([[ 308.87738 ,  691.36694 ,  338.5537  ,  706.6544  ],\n",
       "         [ 501.28238 ,  964.4006  ,  536.8361  ,  983.9344  ],\n",
       "         [ 423.40256 ,  275.47827 ,  459.46484 ,  294.3353  ],\n",
       "         [ 340.07712 ,  521.3694  ,  366.23456 ,  537.2764  ],\n",
       "         [ 338.88705 ,  819.78143 ,  369.8031  ,  840.5573  ],\n",
       "         [ 430.6176  ,  183.51306 ,  461.17102 ,  199.4212  ],\n",
       "         [ 456.93417 ,  719.29193 ,  495.21655 ,  736.4712  ],\n",
       "         [ 411.30814 , 1133.7318  ,  447.574   , 1153.8439  ],\n",
       "         [ 453.38962 , 1047.9222  ,  491.54916 , 1076.9514  ],\n",
       "         [ 484.25146 , 1211.2185  ,  524.65796 , 1233.5015  ],\n",
       "         [ 617.18964 ,  629.4556  ,  661.67206 ,  654.61005 ],\n",
       "         [ 491.9829  ,   62.21746 ,  533.3293  ,   81.61846 ],\n",
       "         [ 173.66528 , 1111.4926  ,  197.338   , 1127.4089  ],\n",
       "         [ 662.09186 ,  945.63654 ,  709.4892  ,  983.5458  ],\n",
       "         [ 155.82236 ,  497.28827 ,  182.88971 ,  510.53564 ],\n",
       "         [  21.091497,  100.00015 ,  705.0497  , 1175.1426  ]],\n",
       "        dtype=float32),\n",
       "  'confidence': array([0.96820354, 0.9638719 , 0.95152116, 0.94757575, 0.9410809 ,\n",
       "         0.9077126 , 0.90367496, 0.8830859 , 0.8662223 , 0.7524103 ,\n",
       "         0.4831275 , 0.4444491 , 0.42977005, 0.42920342, 0.38350272,\n",
       "         0.9238153 ], dtype=float32),\n",
       "  'classes': array([ 0,  0,  0,  0,  0,  0,  0,  0,  0,  0,  0,  0,  0,  0,  0, 62],\n",
       "        dtype=int32)}]"
      ]
     },
     "execution_count": 12,
     "metadata": {},
     "output_type": "execute_result"
    }
   ],
   "source": [
    "results"
   ]
  },
  {
   "cell_type": "code",
   "execution_count": 13,
   "metadata": {},
   "outputs": [
    {
     "name": "stdout",
     "output_type": "stream",
     "text": [
      "000001.jpg\n",
      "000002.jpg\n",
      "000003.jpg\n",
      "000004.jpg\n",
      "000005.jpg\n"
     ]
    }
   ],
   "source": [
    "result_images = []\n",
    "\n",
    "for tmp_index, tmp_frame in enumerate(results):\n",
    "#     print(tmp_frame)\n",
    "#     print(tmp_frame[\"objects\"])\n",
    "    tmp_index +=1\n",
    "    tmp_file_name = str(tmp_index).zfill(6)+\".jpg\"\n",
    "    im = cv2.imread( tmp_file_name )\n",
    "    print(tmp_file_name)\n",
    "    for tmp_index2, tmp_object in  enumerate(tmp_frame[\"objects\"] ):\n",
    "        tmp_object=list(map(int,tmp_object))\n",
    "        x_from, y_from, x_to, y_to = tmp_object\n",
    "        dst = im[x_from:x_to, y_from:y_to] \n",
    "#         cv2.imwrite( \"../images_output_bottom_tiny_val/\"+str(tmp_index).zfill(6)+\"_\"+str(tmp_index2).zfill(2)+\".jpg\", dst)\n",
    "        cv2.imwrite( \"../images_output_tiny_val/\"+str(tmp_index).zfill(6)+\"_\"+str(tmp_index2).zfill(2)+\".jpg\", dst)\n",
    "        result_images.append(dst )\n",
    "        \n",
    "        "
   ]
  },
  {
   "cell_type": "code",
   "execution_count": 14,
   "metadata": {},
   "outputs": [
    {
     "data": {
      "image/png": "[encoded data removed]",
      "text/plain": [
       "<Figure size 1440x1440 with 5 Axes>"
      ]
     },
     "metadata": {
      "needs_background": "dark"
     },
     "output_type": "display_data"
    }
   ],
   "source": [
    "mshow(result_images[0], result_images[1], result_images[2], result_images[3],result_images[4])"
   ]
  },
  {
   "cell_type": "code",
   "execution_count": null,
   "metadata": {},
   "outputs": [],
   "source": []
  }
 ],
 "metadata": {
  "kernelspec": {
   "display_name": "Python 3",
   "language": "python",
   "name": "python3"
  },
  "language_info": {
   "codemirror_mode": {
    "name": "ipython",
    "version": 3
   },
   "file_extension": ".py",
   "mimetype": "text/x-python",
   "name": "python",
   "nbconvert_exporter": "python",
   "pygments_lexer": "ipython3",
   "version": "3.7.6"
  },
  "varInspector": {
   "cols": {
    "lenName": 16,
    "lenType": 16,
    "lenVar": 40
   },
   "kernels_config": {
    "python": {
     "delete_cmd_postfix": "",
     "delete_cmd_prefix": "del ",
     "library": "var_list.py",
     "varRefreshCmd": "print(var_dic_list())"
    },
    "r": {
     "delete_cmd_postfix": ") ",
     "delete_cmd_prefix": "rm(",
     "library": "var_list.r",
     "varRefreshCmd": "cat(var_dic_list()) "
    }
   },
   "types_to_exclude": [
    "module",
    "function",
    "builtin_function_or_method",
    "instance",
    "_Feature"
   ],
   "window_display": false
  }
 },
 "nbformat": 4,
 "nbformat_minor": 4
}
